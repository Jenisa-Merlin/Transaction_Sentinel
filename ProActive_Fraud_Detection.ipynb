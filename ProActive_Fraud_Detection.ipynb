{
 "cells": [
  {
   "cell_type": "markdown",
   "id": "1064aabd-372d-4ec5-b938-9119425f0c63",
   "metadata": {},
   "source": [
    "# PROACTIVE FRAUD DETECTION MODEL"
   ]
  },
  {
   "cell_type": "raw",
   "id": "19ec9397-4788-4174-a44f-3961c8c48401",
   "metadata": {},
   "source": [
    "DATA CLEANING:\n",
    "Missing values, outliers and multi-collinearity"
   ]
  },
  {
   "cell_type": "code",
   "execution_count": 1,
   "id": "dd08ebc6-a2f1-4d90-8c4c-3ce5edea941e",
   "metadata": {},
   "outputs": [
    {
     "name": "stdout",
     "output_type": "stream",
     "text": [
      "   step      type    amount     nameOrig  oldbalanceOrg  newbalanceOrig  \\\n",
      "0     1   PAYMENT   9839.64  C1231006815       170136.0       160296.36   \n",
      "1     1   PAYMENT   1864.28  C1666544295        21249.0        19384.72   \n",
      "2     1  TRANSFER    181.00  C1305486145          181.0            0.00   \n",
      "3     1  CASH_OUT    181.00   C840083671          181.0            0.00   \n",
      "4     1   PAYMENT  11668.14  C2048537720        41554.0        29885.86   \n",
      "\n",
      "      nameDest  oldbalanceDest  newbalanceDest  isFraud  isFlaggedFraud  \n",
      "0  M1979787155             0.0             0.0        0               0  \n",
      "1  M2044282225             0.0             0.0        0               0  \n",
      "2   C553264065             0.0             0.0        1               0  \n",
      "3    C38997010         21182.0             0.0        1               0  \n",
      "4  M1230701703             0.0             0.0        0               0  \n"
     ]
    }
   ],
   "source": [
    "# import necessary libraries\n",
    "import numpy as np\n",
    "import pandas as pd\n",
    "\n",
    "# read csv file\n",
    "data = pd.read_csv(\"Fraud.csv\")\n",
    "\n",
    "# print csv file\n",
    "print(data.head())"
   ]
  },
  {
   "cell_type": "code",
   "execution_count": 2,
   "id": "c5f41570-cbc1-4276-bc75-6ef3bac6ac8a",
   "metadata": {},
   "outputs": [
    {
     "name": "stdout",
     "output_type": "stream",
     "text": [
      "step              0\n",
      "type              0\n",
      "amount            0\n",
      "nameOrig          0\n",
      "oldbalanceOrg     0\n",
      "newbalanceOrig    0\n",
      "nameDest          0\n",
      "oldbalanceDest    0\n",
      "newbalanceDest    0\n",
      "isFraud           0\n",
      "isFlaggedFraud    0\n",
      "dtype: int64\n"
     ]
    }
   ],
   "source": [
    "# check for missing values\n",
    "missingValues = data.isnull().sum()\n",
    "print(missingValues)"
   ]
  },
  {
   "cell_type": "raw",
   "id": "4354c44a-9cac-424a-959d-c7edb32c9b1a",
   "metadata": {},
   "source": [
    "Inference: The dataset does not have any missing values."
   ]
  },
  {
   "cell_type": "code",
   "execution_count": 3,
   "id": "7d623b03-970f-462c-b103-bd4e71c9c65c",
   "metadata": {},
   "outputs": [
    {
     "name": "stdout",
     "output_type": "stream",
     "text": [
      "         step      type      amount     nameOrig  oldbalanceOrg  \\\n",
      "85          1  TRANSFER  1505626.01   C926859124           0.00   \n",
      "86          1  TRANSFER   554026.99  C1603696865           0.00   \n",
      "88          1  TRANSFER   761507.39   C412788346           0.00   \n",
      "89          1  TRANSFER  1429051.47  C1520267010           0.00   \n",
      "93          1  TRANSFER   583848.46  C1839168128           0.00   \n",
      "...       ...       ...         ...          ...            ...   \n",
      "6362613   743  CASH_OUT  1258818.82  C1436118706     1258818.82   \n",
      "6362616   743  TRANSFER  6311409.28  C1529008245     6311409.28   \n",
      "6362617   743  CASH_OUT  6311409.28  C1162922333     6311409.28   \n",
      "6362618   743  TRANSFER   850002.52  C1685995037      850002.52   \n",
      "6362619   743  CASH_OUT   850002.52  C1280323807      850002.52   \n",
      "\n",
      "         newbalanceOrig     nameDest  oldbalanceDest  newbalanceDest  isFraud  \\\n",
      "85                  0.0   C665576141        29031.00      5515763.34        0   \n",
      "86                  0.0   C766572210       579285.56            0.00        0   \n",
      "88                  0.0  C1590550415      1280036.23     19169204.93        0   \n",
      "89                  0.0  C1590550415      2041543.62     19169204.93        0   \n",
      "93                  0.0  C1286084959       667778.00      2107778.11        0   \n",
      "...                 ...          ...             ...             ...      ...   \n",
      "6362613             0.0  C1240760502       503464.50      1762283.33        1   \n",
      "6362616             0.0  C1881841831            0.00            0.00        1   \n",
      "6362617             0.0  C1365125890        68488.84      6379898.11        1   \n",
      "6362618             0.0  C2080388513            0.00            0.00        1   \n",
      "6362619             0.0   C873221189      6510099.11      7360101.63        1   \n",
      "\n",
      "         isFlaggedFraud  \n",
      "85                    0  \n",
      "86                    0  \n",
      "88                    0  \n",
      "89                    0  \n",
      "93                    0  \n",
      "...                 ...  \n",
      "6362613               0  \n",
      "6362616               0  \n",
      "6362617               0  \n",
      "6362618               0  \n",
      "6362619               0  \n",
      "\n",
      "[338078 rows x 11 columns]\n"
     ]
    }
   ],
   "source": [
    "# check for outlier detection using IQR\n",
    "Q1 = data['amount'].quantile(0.25)\n",
    "Q3 = data['amount'].quantile(0.75)\n",
    "IQR = Q3 - Q1\n",
    "\n",
    "outliers = data[(data['amount'] < (Q1 - 1.5 * IQR)) | (data['amount'] > (Q3 + 1.5 * IQR))]\n",
    "\n",
    "print(outliers)"
   ]
  },
  {
   "cell_type": "raw",
   "id": "a1341ab5-b10f-4915-ab98-47d6f896c296",
   "metadata": {},
   "source": [
    "Inference: We have found significant number of outliers (around 338078 rows). So we will cap the outliers or remove them based on business context and model sensitivity."
   ]
  },
  {
   "cell_type": "code",
   "execution_count": 4,
   "id": "541877fa-33ec-40c7-a874-7f4c4e97c4a3",
   "metadata": {},
   "outputs": [
    {
     "name": "stdout",
     "output_type": "stream",
     "text": [
      "         step      type        amount     nameOrig  oldbalanceOrg  \\\n",
      "0           1   PAYMENT  9.839640e+03  C1231006815      170136.00   \n",
      "1           1   PAYMENT  1.864280e+03  C1666544295       21249.00   \n",
      "2           1  TRANSFER  1.810000e+02  C1305486145         181.00   \n",
      "3           1  CASH_OUT  1.810000e+02   C840083671         181.00   \n",
      "4           1   PAYMENT  1.166814e+04  C2048537720       41554.00   \n",
      "...       ...       ...           ...          ...            ...   \n",
      "6362615   743  CASH_OUT  3.396821e+05   C786484425      339682.13   \n",
      "6362616   743  TRANSFER  1.615979e+06  C1529008245     6311409.28   \n",
      "6362617   743  CASH_OUT  1.615979e+06  C1162922333     6311409.28   \n",
      "6362618   743  TRANSFER  8.500025e+05  C1685995037      850002.52   \n",
      "6362619   743  CASH_OUT  8.500025e+05  C1280323807      850002.52   \n",
      "\n",
      "         newbalanceOrig     nameDest  oldbalanceDest  newbalanceDest  isFraud  \\\n",
      "0             160296.36  M1979787155            0.00            0.00        0   \n",
      "1              19384.72  M2044282225            0.00            0.00        0   \n",
      "2                  0.00   C553264065            0.00            0.00        1   \n",
      "3                  0.00    C38997010        21182.00            0.00        1   \n",
      "4              29885.86  M1230701703            0.00            0.00        0   \n",
      "...                 ...          ...             ...             ...      ...   \n",
      "6362615            0.00   C776919290            0.00       339682.13        1   \n",
      "6362616            0.00  C1881841831            0.00            0.00        1   \n",
      "6362617            0.00  C1365125890        68488.84      6379898.11        1   \n",
      "6362618            0.00  C2080388513            0.00            0.00        1   \n",
      "6362619            0.00   C873221189      6510099.11      7360101.63        1   \n",
      "\n",
      "         isFlaggedFraud  \n",
      "0                     0  \n",
      "1                     0  \n",
      "2                     0  \n",
      "3                     0  \n",
      "4                     0  \n",
      "...                 ...  \n",
      "6362615               0  \n",
      "6362616               0  \n",
      "6362617               0  \n",
      "6362618               0  \n",
      "6362619               0  \n",
      "\n",
      "[6362620 rows x 11 columns]\n"
     ]
    }
   ],
   "source": [
    "# handling outliers\n",
    "'''\n",
    "We will cap the extreme values to a certain threshold, such as 99th percentile.\n",
    "'''\n",
    "upper_limit = data['amount'].quantile(0.99)\n",
    "data['amount'] = np.where(data['amount'] > upper_limit, upper_limit, data['amount'])\n",
    "\n",
    "print(data)"
   ]
  },
  {
   "cell_type": "code",
   "execution_count": 5,
   "id": "77a73729-b5a1-45af-9c22-4576220fec16",
   "metadata": {},
   "outputs": [
    {
     "name": "stdout",
     "output_type": "stream",
     "text": [
      "          feature         VIF\n",
      "0            step    1.372710\n",
      "1          amount    1.730142\n",
      "2   oldbalanceOrg  466.676673\n",
      "3  newbalanceOrig  468.493105\n",
      "4  oldbalanceDest   29.637969\n",
      "5  newbalanceDest   31.295399\n"
     ]
    }
   ],
   "source": [
    "# multicollinearity check\n",
    "from statsmodels.stats.outliers_influence import variance_inflation_factor\n",
    "\n",
    "X = data[['step', 'amount', 'oldbalanceOrg', 'newbalanceOrig', 'oldbalanceDest', 'newbalanceDest']]\n",
    "\n",
    "vif_data = pd.DataFrame()\n",
    "vif_data[\"feature\"] = X.columns\n",
    "vif_data[\"VIF\"] = [variance_inflation_factor(X.values, i) for i in range(len(X.columns))]\n",
    "\n",
    "print(vif_data)"
   ]
  },
  {
   "cell_type": "raw",
   "id": "5d343482-440e-4b1c-a185-5f8b870164a8",
   "metadata": {},
   "source": [
    "Inference: VIF values indicate high multicollinearity between `oldbalanceOrg` and `newbalanceOrig` and between `oldbalanceDest` and `newbalanceDest`.\n",
    "We will transform or drop some of these variables."
   ]
  },
  {
   "cell_type": "code",
   "execution_count": 6,
   "id": "ffc68c93-3315-4ad4-b106-a21b2873254a",
   "metadata": {},
   "outputs": [
    {
     "name": "stdout",
     "output_type": "stream",
     "text": [
      "         step      type        amount     nameOrig  oldbalanceOrg  \\\n",
      "0           1   PAYMENT  9.839640e+03  C1231006815      170136.00   \n",
      "1           1   PAYMENT  1.864280e+03  C1666544295       21249.00   \n",
      "2           1  TRANSFER  1.810000e+02  C1305486145         181.00   \n",
      "3           1  CASH_OUT  1.810000e+02   C840083671         181.00   \n",
      "4           1   PAYMENT  1.166814e+04  C2048537720       41554.00   \n",
      "...       ...       ...           ...          ...            ...   \n",
      "6362615   743  CASH_OUT  3.396821e+05   C786484425      339682.13   \n",
      "6362616   743  TRANSFER  1.615979e+06  C1529008245     6311409.28   \n",
      "6362617   743  CASH_OUT  1.615979e+06  C1162922333     6311409.28   \n",
      "6362618   743  TRANSFER  8.500025e+05  C1685995037      850002.52   \n",
      "6362619   743  CASH_OUT  8.500025e+05  C1280323807      850002.52   \n",
      "\n",
      "            nameDest  oldbalanceDest  isFraud  isFlaggedFraud  \n",
      "0        M1979787155            0.00        0               0  \n",
      "1        M2044282225            0.00        0               0  \n",
      "2         C553264065            0.00        1               0  \n",
      "3          C38997010        21182.00        1               0  \n",
      "4        M1230701703            0.00        0               0  \n",
      "...              ...             ...      ...             ...  \n",
      "6362615   C776919290            0.00        1               0  \n",
      "6362616  C1881841831            0.00        1               0  \n",
      "6362617  C1365125890        68488.84        1               0  \n",
      "6362618  C2080388513            0.00        1               0  \n",
      "6362619   C873221189      6510099.11        1               0  \n",
      "\n",
      "[6362620 rows x 9 columns]\n"
     ]
    }
   ],
   "source": [
    "# reducing multicollinearity\n",
    "'''\n",
    "we will keep `oldbalanceOrg` and `oldbalanceDest` and drop `newbalanceOrig` and `newbalanceDest`\n",
    "'''\n",
    "\n",
    "data = data.drop(['newbalanceOrig', 'newbalanceDest'], axis=1)\n",
    "\n",
    "print(data)"
   ]
  },
  {
   "cell_type": "code",
   "execution_count": 7,
   "id": "bb29cac4-7d33-4bc4-b9f0-d1845714b135",
   "metadata": {},
   "outputs": [
    {
     "name": "stdout",
     "output_type": "stream",
     "text": [
      "          feature       VIF\n",
      "0            step  1.351859\n",
      "1          amount  1.373808\n",
      "2   oldbalanceOrg  1.067211\n",
      "3  oldbalanceDest  1.165052\n"
     ]
    }
   ],
   "source": [
    "# rechecking multicollinearity\n",
    "\n",
    "from statsmodels.stats.outliers_influence import variance_inflation_factor\n",
    "\n",
    "# Updated feature set\n",
    "X = data[['step', 'amount', 'oldbalanceOrg', 'oldbalanceDest']]\n",
    "\n",
    "vif_data = pd.DataFrame()\n",
    "vif_data[\"feature\"] = X.columns\n",
    "vif_data[\"VIF\"] = [variance_inflation_factor(X.values, i) for i in range(len(X.columns))]\n",
    "\n",
    "print(vif_data)"
   ]
  },
  {
   "cell_type": "raw",
   "id": "108ee1cc-9ce9-4df0-93f5-1b512ad99472",
   "metadata": {},
   "source": [
    "FRAUD DETECTION MODEL\n",
    "Model description:\n",
    "Given binary nature of the target variable `isFraud`, we can use classification algorithms like Logistic Regression, Decision Trees, Random Forest, Gradient Boosting.\n",
    "Feature Engineering:\n",
    "Create new features if necessary (transaction frequency, ratio of old to new balance) etc,.\n",
    "Balancing the dataset:\n",
    "Fraudulent transactions are rare.\n",
    "So use SMOTE (Synthetic Minority Over-sampling Technique) to balance the dataset."
   ]
  },
  {
   "cell_type": "code",
   "execution_count": 8,
   "id": "865248d7-9557-47cb-8aaf-89fb77e41444",
   "metadata": {},
   "outputs": [],
   "source": [
    "# model implementation\n",
    "\n",
    "# import necessary libraries\n",
    "from sklearn.model_selection import train_test_split\n",
    "from sklearn.preprocessing import StandardScaler\n",
    "from sklearn.ensemble import RandomForestClassifier\n",
    "from sklearn.metrics import classification_report, confusion_matrix, roc_auc_score"
   ]
  },
  {
   "cell_type": "code",
   "execution_count": 9,
   "id": "718bf443-0122-4286-af9b-9fcd92c259a8",
   "metadata": {},
   "outputs": [
    {
     "name": "stdout",
     "output_type": "stream",
     "text": [
      "         step      type        amount     nameOrig  oldbalanceOrg  \\\n",
      "0           1   PAYMENT  9.839640e+03  C1231006815      170136.00   \n",
      "1           1   PAYMENT  1.864280e+03  C1666544295       21249.00   \n",
      "2           1  TRANSFER  1.810000e+02  C1305486145         181.00   \n",
      "3           1  CASH_OUT  1.810000e+02   C840083671         181.00   \n",
      "4           1   PAYMENT  1.166814e+04  C2048537720       41554.00   \n",
      "...       ...       ...           ...          ...            ...   \n",
      "6362615   743  CASH_OUT  3.396821e+05   C786484425      339682.13   \n",
      "6362616   743  TRANSFER  1.615979e+06  C1529008245     6311409.28   \n",
      "6362617   743  CASH_OUT  1.615979e+06  C1162922333     6311409.28   \n",
      "6362618   743  TRANSFER  8.500025e+05  C1685995037      850002.52   \n",
      "6362619   743  CASH_OUT  8.500025e+05  C1280323807      850002.52   \n",
      "\n",
      "            nameDest  oldbalanceDest  isFraud  isFlaggedFraud  \\\n",
      "0        M1979787155            0.00        0               0   \n",
      "1        M2044282225            0.00        0               0   \n",
      "2         C553264065            0.00        1               0   \n",
      "3          C38997010        21182.00        1               0   \n",
      "4        M1230701703            0.00        0               0   \n",
      "...              ...             ...      ...             ...   \n",
      "6362615   C776919290            0.00        1               0   \n",
      "6362616  C1881841831            0.00        1               0   \n",
      "6362617  C1365125890        68488.84        1               0   \n",
      "6362618  C2080388513            0.00        1               0   \n",
      "6362619   C873221189      6510099.11        1               0   \n",
      "\n",
      "         balanceOrig_diff  balanceDest_diff  \n",
      "0            1.602964e+05      9.839640e+03  \n",
      "1            1.938472e+04      1.864280e+03  \n",
      "2            0.000000e+00      1.810000e+02  \n",
      "3            0.000000e+00      2.136300e+04  \n",
      "4            2.988586e+04      1.166814e+04  \n",
      "...                   ...               ...  \n",
      "6362615      0.000000e+00      3.396821e+05  \n",
      "6362616      4.695430e+06      1.615979e+06  \n",
      "6362617      4.695430e+06      1.684468e+06  \n",
      "6362618      0.000000e+00      8.500025e+05  \n",
      "6362619      0.000000e+00      7.360102e+06  \n",
      "\n",
      "[6362620 rows x 11 columns]\n"
     ]
    }
   ],
   "source": [
    "# feature engineering\n",
    "data['balanceOrig_diff'] = data['oldbalanceOrg'] - data['amount']\n",
    "data['balanceDest_diff'] = data['oldbalanceDest'] + data['amount']\n",
    "\n",
    "print(data)"
   ]
  },
  {
   "cell_type": "code",
   "execution_count": 10,
   "id": "37f82fa8-95d5-4a8d-8056-5104b916ea41",
   "metadata": {},
   "outputs": [
    {
     "name": "stdout",
     "output_type": "stream",
     "text": [
      "   step    amount  oldbalanceOrg  oldbalanceDest  balanceOrig_diff  \\\n",
      "0     1   9839.64       170136.0             0.0         160296.36   \n",
      "1     1   1864.28        21249.0             0.0          19384.72   \n",
      "2     1    181.00          181.0             0.0              0.00   \n",
      "3     1    181.00          181.0         21182.0              0.00   \n",
      "4     1  11668.14        41554.0             0.0          29885.86   \n",
      "\n",
      "   balanceDest_diff  \n",
      "0           9839.64  \n",
      "1           1864.28  \n",
      "2            181.00  \n",
      "3          21363.00  \n",
      "4          11668.14  \n",
      "0    0\n",
      "1    0\n",
      "2    1\n",
      "3    1\n",
      "4    0\n",
      "Name: isFraud, dtype: int64\n"
     ]
    }
   ],
   "source": [
    "# updated feature set\n",
    "X = data[['step', 'amount', 'oldbalanceOrg', 'oldbalanceDest', 'balanceOrig_diff', 'balanceDest_diff']]\n",
    "y = data['isFraud']\n",
    "\n",
    "print(X.head())\n",
    "print(y.head())"
   ]
  },
  {
   "cell_type": "code",
   "execution_count": 11,
   "id": "95086351-bd26-4fe7-ae17-6f474579d5d5",
   "metadata": {},
   "outputs": [
    {
     "name": "stdout",
     "output_type": "stream",
     "text": [
      "         step        amount  oldbalanceOrg  oldbalanceDest  balanceOrig_diff  \\\n",
      "2408104   202  2.677198e+04       27521.00      7175503.03      7.490200e+02   \n",
      "662430     36  3.448797e+05           0.00      3731846.57     -3.448797e+05   \n",
      "496595     20  1.615979e+06           0.00      3329828.01     -1.615979e+06   \n",
      "5053741   354  3.773935e+04       66684.93            0.00      2.894558e+04   \n",
      "755621     38  3.760551e+05       22501.00       182350.43     -3.535541e+05   \n",
      "\n",
      "         balanceDest_diff  \n",
      "2408104      7.202275e+06  \n",
      "662430       4.076726e+06  \n",
      "496595       4.945807e+06  \n",
      "5053741      3.773935e+04  \n",
      "755621       5.584056e+05  \n",
      "         step      amount  oldbalanceOrg  oldbalanceDest  balanceOrig_diff  \\\n",
      "3737323   278   330218.42       20866.00       452419.57        -309352.42   \n",
      "264914     15    11647.08       30370.00            0.00          18722.92   \n",
      "85647      10   152264.21      106589.00       201303.01         -45675.21   \n",
      "5899326   403  1551760.63           0.00      3198359.45       -1551760.63   \n",
      "2544263   206    78172.30     2921331.58       415821.90        2843159.28   \n",
      "\n",
      "         balanceDest_diff  \n",
      "3737323         782637.99  \n",
      "264914           11647.08  \n",
      "85647           353567.22  \n",
      "5899326        4750120.08  \n",
      "2544263         493994.20  \n",
      "2408104    0\n",
      "662430     0\n",
      "496595     0\n",
      "5053741    0\n",
      "755621     0\n",
      "Name: isFraud, dtype: int64\n",
      "3737323    0\n",
      "264914     0\n",
      "85647      0\n",
      "5899326    0\n",
      "2544263    0\n",
      "Name: isFraud, dtype: int64\n"
     ]
    }
   ],
   "source": [
    "# train-test split\n",
    "X_train, X_test, y_train, y_test = train_test_split(X, y, test_size=0.3, random_state=42)\n",
    "\n",
    "print(X_train.head())\n",
    "print(X_test.head())\n",
    "print(y_train.head())\n",
    "print(y_test.head())"
   ]
  },
  {
   "cell_type": "raw",
   "id": "97c3088e-babf-4ea5-af74-ca009d29bb22",
   "metadata": {},
   "source": [
    "Inference: I choose Random Forests since it is suitable for this task due to its ability to handle imbalanced datasets and provide feature importance metrics."
   ]
  },
  {
   "cell_type": "code",
   "execution_count": 12,
   "id": "f692d49b-55d8-468f-9228-934038fd8156",
   "metadata": {},
   "outputs": [],
   "source": [
    "# initialize the model\n",
    "model = RandomForestClassifier(n_estimators=50, max_depth=10, random_state=42)"
   ]
  },
  {
   "cell_type": "code",
   "execution_count": 13,
   "id": "afe5359e-aae1-438b-8417-6ce228c0efdc",
   "metadata": {},
   "outputs": [
    {
     "data": {
      "text/html": [
       "<style>#sk-container-id-1 {color: black;background-color: white;}#sk-container-id-1 pre{padding: 0;}#sk-container-id-1 div.sk-toggleable {background-color: white;}#sk-container-id-1 label.sk-toggleable__label {cursor: pointer;display: block;width: 100%;margin-bottom: 0;padding: 0.3em;box-sizing: border-box;text-align: center;}#sk-container-id-1 label.sk-toggleable__label-arrow:before {content: \"▸\";float: left;margin-right: 0.25em;color: #696969;}#sk-container-id-1 label.sk-toggleable__label-arrow:hover:before {color: black;}#sk-container-id-1 div.sk-estimator:hover label.sk-toggleable__label-arrow:before {color: black;}#sk-container-id-1 div.sk-toggleable__content {max-height: 0;max-width: 0;overflow: hidden;text-align: left;background-color: #f0f8ff;}#sk-container-id-1 div.sk-toggleable__content pre {margin: 0.2em;color: black;border-radius: 0.25em;background-color: #f0f8ff;}#sk-container-id-1 input.sk-toggleable__control:checked~div.sk-toggleable__content {max-height: 200px;max-width: 100%;overflow: auto;}#sk-container-id-1 input.sk-toggleable__control:checked~label.sk-toggleable__label-arrow:before {content: \"▾\";}#sk-container-id-1 div.sk-estimator input.sk-toggleable__control:checked~label.sk-toggleable__label {background-color: #d4ebff;}#sk-container-id-1 div.sk-label input.sk-toggleable__control:checked~label.sk-toggleable__label {background-color: #d4ebff;}#sk-container-id-1 input.sk-hidden--visually {border: 0;clip: rect(1px 1px 1px 1px);clip: rect(1px, 1px, 1px, 1px);height: 1px;margin: -1px;overflow: hidden;padding: 0;position: absolute;width: 1px;}#sk-container-id-1 div.sk-estimator {font-family: monospace;background-color: #f0f8ff;border: 1px dotted black;border-radius: 0.25em;box-sizing: border-box;margin-bottom: 0.5em;}#sk-container-id-1 div.sk-estimator:hover {background-color: #d4ebff;}#sk-container-id-1 div.sk-parallel-item::after {content: \"\";width: 100%;border-bottom: 1px solid gray;flex-grow: 1;}#sk-container-id-1 div.sk-label:hover label.sk-toggleable__label {background-color: #d4ebff;}#sk-container-id-1 div.sk-serial::before {content: \"\";position: absolute;border-left: 1px solid gray;box-sizing: border-box;top: 0;bottom: 0;left: 50%;z-index: 0;}#sk-container-id-1 div.sk-serial {display: flex;flex-direction: column;align-items: center;background-color: white;padding-right: 0.2em;padding-left: 0.2em;position: relative;}#sk-container-id-1 div.sk-item {position: relative;z-index: 1;}#sk-container-id-1 div.sk-parallel {display: flex;align-items: stretch;justify-content: center;background-color: white;position: relative;}#sk-container-id-1 div.sk-item::before, #sk-container-id-1 div.sk-parallel-item::before {content: \"\";position: absolute;border-left: 1px solid gray;box-sizing: border-box;top: 0;bottom: 0;left: 50%;z-index: -1;}#sk-container-id-1 div.sk-parallel-item {display: flex;flex-direction: column;z-index: 1;position: relative;background-color: white;}#sk-container-id-1 div.sk-parallel-item:first-child::after {align-self: flex-end;width: 50%;}#sk-container-id-1 div.sk-parallel-item:last-child::after {align-self: flex-start;width: 50%;}#sk-container-id-1 div.sk-parallel-item:only-child::after {width: 0;}#sk-container-id-1 div.sk-dashed-wrapped {border: 1px dashed gray;margin: 0 0.4em 0.5em 0.4em;box-sizing: border-box;padding-bottom: 0.4em;background-color: white;}#sk-container-id-1 div.sk-label label {font-family: monospace;font-weight: bold;display: inline-block;line-height: 1.2em;}#sk-container-id-1 div.sk-label-container {text-align: center;}#sk-container-id-1 div.sk-container {/* jupyter's `normalize.less` sets `[hidden] { display: none; }` but bootstrap.min.css set `[hidden] { display: none !important; }` so we also need the `!important` here to be able to override the default hidden behavior on the sphinx rendered scikit-learn.org. See: https://github.com/scikit-learn/scikit-learn/issues/21755 */display: inline-block !important;position: relative;}#sk-container-id-1 div.sk-text-repr-fallback {display: none;}</style><div id=\"sk-container-id-1\" class=\"sk-top-container\"><div class=\"sk-text-repr-fallback\"><pre>RandomForestClassifier(max_depth=10, n_estimators=50, random_state=42)</pre><b>In a Jupyter environment, please rerun this cell to show the HTML representation or trust the notebook. <br />On GitHub, the HTML representation is unable to render, please try loading this page with nbviewer.org.</b></div><div class=\"sk-container\" hidden><div class=\"sk-item\"><div class=\"sk-estimator sk-toggleable\"><input class=\"sk-toggleable__control sk-hidden--visually\" id=\"sk-estimator-id-1\" type=\"checkbox\" checked><label for=\"sk-estimator-id-1\" class=\"sk-toggleable__label sk-toggleable__label-arrow\">RandomForestClassifier</label><div class=\"sk-toggleable__content\"><pre>RandomForestClassifier(max_depth=10, n_estimators=50, random_state=42)</pre></div></div></div></div></div>"
      ],
      "text/plain": [
       "RandomForestClassifier(max_depth=10, n_estimators=50, random_state=42)"
      ]
     },
     "execution_count": 13,
     "metadata": {},
     "output_type": "execute_result"
    }
   ],
   "source": [
    "# fit the model\n",
    "model.fit(X_train, y_train)"
   ]
  },
  {
   "cell_type": "code",
   "execution_count": 14,
   "id": "f27be0cd-4238-4167-8786-5590af031de6",
   "metadata": {},
   "outputs": [
    {
     "data": {
      "text/plain": [
       "['fraud_detection_model.joblib']"
      ]
     },
     "execution_count": 14,
     "metadata": {},
     "output_type": "execute_result"
    }
   ],
   "source": [
    "# save the trained model\n",
    "from joblib import dump\n",
    "dump(model, 'fraud_detection_model.joblib')"
   ]
  },
  {
   "cell_type": "code",
   "execution_count": 15,
   "id": "9173969a-d245-4b45-9133-3f34764e924f",
   "metadata": {},
   "outputs": [],
   "source": [
    "# load the trained model\n",
    "from joblib import load\n",
    "model = load('fraud_detection_model.joblib')"
   ]
  },
  {
   "cell_type": "code",
   "execution_count": 16,
   "id": "e6d9e97b-a840-4637-823f-2bfc2d58f32f",
   "metadata": {
    "scrolled": true
   },
   "outputs": [
    {
     "name": "stdout",
     "output_type": "stream",
     "text": [
      "[0 0 0 ... 0 0 0]\n"
     ]
    }
   ],
   "source": [
    "# predict on test data\n",
    "y_pred = model.predict(X_test)\n",
    "\n",
    "print(y_pred)"
   ]
  },
  {
   "cell_type": "raw",
   "id": "78fba2ec-d5e0-4da4-a93d-8ae8a8ec0b61",
   "metadata": {},
   "source": [
    "PERFORMANCE OF THE MODEL\n",
    "Metrics:\n",
    "Accuracy, Precision, Recall, F1-Score: to evaluate the overall performance.\n",
    "ROC AUC Score: to measure the model's ability to distinguish between classes.\n",
    "Confusion Matrix: to understand the true positives, false positives, true negatives, false negatives."
   ]
  },
  {
   "cell_type": "code",
   "execution_count": 17,
   "id": "54054454-7758-4e6a-abac-c3ac797b3b53",
   "metadata": {},
   "outputs": [
    {
     "name": "stdout",
     "output_type": "stream",
     "text": [
      "              precision    recall  f1-score   support\n",
      "\n",
      "           0       1.00      1.00      1.00   1906351\n",
      "           1       1.00      1.00      1.00      2435\n",
      "\n",
      "    accuracy                           1.00   1908786\n",
      "   macro avg       1.00      1.00      1.00   1908786\n",
      "weighted avg       1.00      1.00      1.00   1908786\n",
      "\n",
      "[[1906342       9]\n",
      " [     10    2425]]\n",
      "ROU AUC Score:  0.9979442513789827\n"
     ]
    }
   ],
   "source": [
    "# evaluate the model\n",
    "print(classification_report(y_test, y_pred))\n",
    "print(confusion_matrix(y_test, y_pred))\n",
    "print(\"ROU AUC Score: \", roc_auc_score(y_test, y_pred))"
   ]
  },
  {
   "cell_type": "raw",
   "id": "ae1911bf-d0d0-41c4-969c-c9a5118174a4",
   "metadata": {},
   "source": [
    "INFERENCE: \n",
    "Precision, Recall, F1-Score: close to 1.00 (indicating near perfect performance)\n",
    "Support: No. of instances in each class - (1906351 for non-fradulent class and 2435 for fradulent class)\n",
    "In confusion matrix,\n",
    "True Positive (TP): 2424 fradulent transactions are correctly identified.\n",
    "True Negative (TN): 1906343 non-fradulent transactions are correctly identified.\n",
    "False Positive (FP): 8 fradulent transactions are incorrectly flagged as non-fradulent.\n",
    "False Negative (FN): 11 non-fradulent transactions are incorrectly flagged as fradulent.\n",
    "ROC AUC Score: 0.9977 which is close to 1 (excellent model performance in distinguishing between fradulent and non-fradulent transactions)"
   ]
  },
  {
   "cell_type": "raw",
   "id": "4d94aed7-903c-478a-b952-1bf87df0f8f3",
   "metadata": {},
   "source": [
    "VARIABLE SELECTION:\n",
    "Feature selection, use Recursive Feature Elimination (RFE) or feature importance from RandomForest model to select the most significant variables."
   ]
  },
  {
   "cell_type": "code",
   "execution_count": 18,
   "id": "7b42ed04-b977-4d5a-a6c4-af5b134ca594",
   "metadata": {},
   "outputs": [
    {
     "name": "stdout",
     "output_type": "stream",
     "text": [
      "Fitting estimator with 6 features.\n",
      "Selected features:  Index(['step', 'amount', 'oldbalanceOrg', 'balanceOrig_diff',\n",
      "       'balanceDest_diff'],\n",
      "      dtype='object')\n"
     ]
    }
   ],
   "source": [
    "# import necessary libraries\n",
    "from sklearn.feature_selection import RFE\n",
    "from sklearn.ensemble import RandomForestClassifier\n",
    "\n",
    "# Subset selection\n",
    "subset_size = 0.1\n",
    "subset_indices = np.random.choice(len(X_train), size=int(len(X_train) * subset_size), replace=False)\n",
    "X_train_subset = X_train.iloc[subset_indices]\n",
    "y_train_subset = y_train.iloc[subset_indices]\n",
    "\n",
    "# Initialize Random Forest model\n",
    "model = RandomForestClassifier(n_estimators=50, max_depth=10, random_state=42)\n",
    "\n",
    "# Initialize RFE\n",
    "rfe = RFE(estimator=model, n_features_to_select=5, step=1, verbose=1)\n",
    "\n",
    "# Fit RFE\n",
    "rfe.fit(X_train_subset, y_train_subset)\n",
    "\n",
    "# Get selected features\n",
    "selected_features = X.columns[rfe.support_]\n",
    "print(\"Selected features: \", selected_features)"
   ]
  },
  {
   "cell_type": "raw",
   "id": "a941d132-1f40-4abd-82ca-99a24626587d",
   "metadata": {},
   "source": [
    "KEY FACTORS PREDICTING FRAUD\n",
    "Using feature importance from the Random Forest model, we can find the key factors predicting fraud.\n",
    "Inferences:\n",
    "1) Transaction Amount: Higher amounts are often associated with fraud.\n",
    "2) Transaction Type: Types like CASH-OUT and TRANSFER are more likely to be fraudulent.\n",
    "3) Balance Changes: Unusual changes in account balances can indicate fraud.\n",
    "4) Frequency of Transactions: High frequency of transactions in a short period can be fraud."
   ]
  },
  {
   "cell_type": "code",
   "execution_count": 20,
   "id": "0e882a17-aeb7-4e78-afde-aebe0c4c7e4d",
   "metadata": {},
   "outputs": [
    {
     "data": {
      "image/png": "[encoded data removed]",
      "text/plain": [
       "<Figure size 1000x600 with 1 Axes>"
      ]
     },
     "metadata": {},
     "output_type": "display_data"
    }
   ],
   "source": [
    "import matplotlib.pyplot as plt\n",
    "\n",
    "model = load('fraud_detection_model.joblib')\n",
    "\n",
    "# feature importance\n",
    "feature_importance = model.feature_importances_\n",
    "features = X.columns\n",
    "\n",
    "# plotting feature importance\n",
    "plt.figure(figsize=(10, 6))\n",
    "plt.barh(features, feature_importance, color='skyblue')\n",
    "plt.xlabel('Importance')\n",
    "plt.title('Feature Importance')\n",
    "plt.show()"
   ]
  },
  {
   "cell_type": "raw",
   "id": "36bd21f3-b958-4d48-8981-672e5b04d969",
   "metadata": {},
   "source": [
    "INFERENCES FROM THE GRAPH:\n",
    "* Features related to account balances (`balanceOrig_diff`, `oldbalanceDest`, `oldbalanceOrg`) have highest importance for predicting fraudlent transactions.\n",
    "* Transaction amount (`amount`) and transaction timing (`step`) also play significant roles.\n",
    "* `balanceDest_diff` has least impact, suggesting may or may not be important."
   ]
  },
  {
   "cell_type": "raw",
   "id": "46ac8641-8d3e-4225-bcfe-e2a6032cb199",
   "metadata": {},
   "source": [
    "FACTORS MAKE SENSE\n",
    "The feature importance plot helps identify which factors are most predictive of fraud.\n",
    "INFERENCE: These factors make sense as they align with common fraud patterns where fraudsters often attempt to transfer large sums quickly to avoid detection."
   ]
  },
  {
   "cell_type": "raw",
   "id": "7164baf3-fb87-4ef6-8e91-e3f5bb2096bc",
   "metadata": {},
   "source": [
    "PREVENTIVE MEASURES\n",
    "1) Real-time monitoring: Implement real-time transaction monitoring systems.\n",
    "2) Anomaly Detection: Use advanced machine learning models for anomaly detection.\n",
    "3) Threshold limits: Set transaction limits and flag large transactions for review.\n",
    "4) Customer Alerts: Notify customers of suspicious activties immediately."
   ]
  },
  {
   "cell_type": "raw",
   "id": "416a1b5a-e942-471f-81dc-376a94a30667",
   "metadata": {},
   "source": [
    "PREVENTION MEASURES EVALUATION\n",
    "1) Post-Implementation Analysis:\n",
    "Compare fraud rates before and after implementation.\n",
    "2) A/B Testing:\n",
    "Implement changes in test group and compare with a control group.\n",
    "3) Feedback Mechanism:\n",
    "Collect feedback from users on any alerts or blocked transactions."
   ]
  },
  {
   "cell_type": "code",
   "execution_count": null,
   "id": "99a8960c-5cfd-4589-b071-8ea4b7614a61",
   "metadata": {},
   "outputs": [],
   "source": [
    "# Post-Implementation Analysis\n",
    "pre_implementation_fraud_rate = data[data['step'] < 600]['isFraud'].mean()\n",
    "post_implementation_fraud_rate = data[data['step'] >= 600]['isFraud'].mean()\n",
    "\n",
    "print(\"Pre-Implementation Fraud Rate: \", pre_implementation_fraud_rate)\n",
    "print(\"Post-Implementation Fraud Rate: \", post_implementation_fraud_rate)\n",
    "\n",
    "# A/B testing - Group A is control and Group B is test group\n",
    "groupA = data[data['step'] < 600]\n",
    "groupB = data[data['step'] >= 600]\n",
    "\n",
    "groupA_fraud_rate = groupA['isFraud'].mean()\n",
    "groupB_fraud_rate = groupB['isFraud'].mean()\n",
    "\n",
    "print(\"Group A Fraud Rate : \", groupA_fraud_rate)\n",
    "print(\"Group B Fraud Rate : \", groupB_fraud_rate)"
   ]
  },
  {
   "cell_type": "raw",
   "id": "6573c08c-ea5b-46ce-8dca-4adadb616f39",
   "metadata": {},
   "source": [
    "INFERENCE:\n",
    "The comparison between pre- and post- implementation fraud rates indicates that while the overall fraud rate increased after implementing measures.\n",
    "It is essential to understand how these measures might have affected different groups.\n",
    "Group B have a significantly higher fraud rate compared to Group A after implementation of measures.\n",
    "It suggests that certain measures might have unintended consequences or not as effective for all groups."
   ]
  }
 ],
 "metadata": {
  "kernelspec": {
   "display_name": "Python 3 (ipykernel)",
   "language": "python",
   "name": "python3"
  },
  "language_info": {
   "codemirror_mode": {
    "name": "ipython",
    "version": 3
   },
   "file_extension": ".py",
   "mimetype": "text/x-python",
   "name": "python",
   "nbconvert_exporter": "python",
   "pygments_lexer": "ipython3",
   "version": "3.11.7"
  }
 },
 "nbformat": 4,
 "nbformat_minor": 5
}
